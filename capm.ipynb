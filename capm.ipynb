{
 "cells": [
  {
   "cell_type": "code",
   "execution_count": null,
   "metadata": {},
   "outputs": [],
   "source": [
    "#importing libraries\n",
    "import numpy as np\n",
    "import pandas as pd\n",
    "import statsmodels.api as sm"
   ]
  },
  {
   "cell_type": "code",
   "execution_count": null,
   "metadata": {},
   "outputs": [],
   "source": [
    "#? loading data from csv file\n",
    "data = pd.read_csv('ab24dc77d9e26451f5734801f223fc88data.csv')\n",
    "# data = file data\n",
    "\n",
    "#? extracting data to variables\n",
    "BCS_returns = data['BCS'].pct_change() * 100\n",
    "ULVR_returns = data['ULVR'].pct_change() * 100\n",
    "BCS_stock_returns = BCS_returns.dropna() #IN %\n",
    "ULVR_stock_returns = ULVR_returns.dropna() #IN %\n",
    "Rf = data['Rf']\n",
    "Rm = data['Rm'].dropna()\n",
    "\n",
    "#? Calculating Beta For Each Stock\n",
    "#BCS\n",
    "BCS_covariance = np.cov(BCS_stock_returns, Rm)[0, 1]\n",
    "BCS_market_variance = np.var(Rm)\n",
    "BCS_Beta = BCS_covariance /  BCS_market_variance\n",
    "\n",
    "#ULVR\n",
    "ULVR_covariance = np.cov(ULVR_stock_returns, Rm)[0, 1]\n",
    "ULVR_market_variance = np.var(Rm)\n",
    "ULVR_Beta = ULVR_covariance /  ULVR_market_variance\n",
    "\n",
    "#? Running CAPM model for each stock\n",
    "RiskPremium = (Rm - Rf).mean()\n",
    "BCS_Er = (Rf + (RiskPremium) * BCS_Beta).mean()\n",
    "ULVR_Er = (Rf + (RiskPremium) * ULVR_Beta).mean()\n",
    "\n",
    "print('The Risk Premium is:', \"{:.2%}\".format(RiskPremium))\n",
    "print(\"BCS Er: \", \"{:.2%}\".format(BCS_Er))\n",
    "print(\"ULVR Er: \", \"{:.2%}\".format(ULVR_Er))\n",
    "\n",
    "print(\"--------------------------------------------\")\n",
    "print(\"--------------------------------------------\")"
   ]
  },
  {
   "cell_type": "code",
   "execution_count": null,
   "metadata": {},
   "outputs": [],
   "source": [
    "#summery of regressions of two stocks\n",
    "\n",
    "#? Defining the dependent and independent variables\n",
    "y_BCS = (data['BCS'] - data['Rf']).dropna()\n",
    "x_BCS = (data['Rm'] - data['Rf']).dropna()\n",
    "\n",
    "y_ULVR = (data['ULVR'] - data['Rf']).dropna()\n",
    "x_ULVR = (data['Rm'] - data['Rf']).dropna()\n",
    "\n",
    "#? Running the CAPM model and print the summary of regressions\n",
    "model_BCS = sm.OLS(y_BCS, sm.add_constant(x_BCS))\n",
    "result_BCS = model_BCS.fit()\n",
    "print(\"Summary of Regression for BCS:\")\n",
    "print(result_BCS.summary())\n",
    "\n",
    "print(\"-------------------------------------------\")\n",
    "\n",
    "model_ULVR = sm.OLS(y_ULVR, sm.add_constant(x_ULVR))\n",
    "result_ULVR = model_ULVR.fit()\n",
    "print(\"Summary of Regression for ULVR:\")\n",
    "print(result_ULVR.summary())\n",
    "\n",
    "#! Analysis\n",
    "#? Based on the regression results, neither BCS nor ULVR have a statistically significant relationship with the market (0). However, ULVR has a higher R-squared value (0.012) than BCS (0.002), which means that ULVR's performance is slightly more correlated with the market compared to BCS. Therefore, in an upward market, ULVR may have a slightly better performance than BCS.\n",
    "#? Similarly, neither BCS nor ULVR have a statistically significant relationship with the market in a downward direction. However, based on the coefficients, BCS has a lower intercept value (15.7525) than ULVR (1402.2554), which means that BCS may hold its value better than ULVR in a downward market. However, this conclusion should be taken with caution as the relationship is not statistically significant."
   ]
  }
 ],
 "metadata": {
  "kernelspec": {
   "display_name": ".venv",
   "language": "python",
   "name": "python3"
  },
  "language_info": {
   "codemirror_mode": {
    "name": "ipython",
    "version": 3
   },
   "file_extension": ".py",
   "mimetype": "text/x-python",
   "name": "python",
   "nbconvert_exporter": "python",
   "pygments_lexer": "ipython3",
   "version": "3.11.2"
  },
  "orig_nbformat": 4
 },
 "nbformat": 4,
 "nbformat_minor": 2
}
